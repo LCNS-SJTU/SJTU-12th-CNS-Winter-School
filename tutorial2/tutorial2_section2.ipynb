{
 "cells": [
  {
   "cell_type": "markdown",
   "metadata": {},
   "source": [
    "---\n",
    "### *The 12th Computational Neuroscience Winter School*\n",
    "\n",
    "# Tutorial II: Neuron software\n",
    "---\n",
    "__Date:__ Jan. 13, 2023\n",
    "\n",
    "__Content Creator:__ Jingyang Ma, Ziling Wang, Kai Chen, Songting Li"
   ]
  },
  {
   "cell_type": "markdown",
   "metadata": {},
   "source": [
    "# Tutorial Objectives\n",
    "\n",
    "In this notebook, we'll learn how to use the Neuron software in python to build the biophysical neuron(or neuronal network) and do some simulations as we like. There are 4 sections in this tutorial:\n",
    "\n",
    "1. Simulation of  a point neuron\n",
    "1. Simulation of neuron with dendtrites\n",
    "1. Simulation of neuronal network\n",
    "1. Simulation of a real neuron from ModelDB"
   ]
  },
  {
   "cell_type": "markdown",
   "metadata": {},
   "source": [
    "#### References:\n",
    "- https://www.neuron.yale.edu/neuron/static/py_doc/index.html\n",
    "- https://neuronaldynamics.epfl.ch\n",
    "- https://senselab.med.yale.edu/ModelDB/\n",
    "- Li, S., Liu, N., Zhang, X., Zhou, D., Cai, D. (2014) Bilinearity in spatiotemporal integration of synaptic inputs. PLoS Comput Biol.\n",
    "- Li, S., Liu, N., Zhang, X., McLaughlin, D. W., Zhou, D., & Cai, D. (2019). Dendritic computations captured by an effective point neuron model. Proceedings of the National Academy of Sciences.\n",
    "- Hay E, Hill S, Schürmann F, Markram H, Segev I (2011) Models of Neocortical Layer 5b Pyramidal Cells Capturing a Wide Range of Dendritic and Perisomatic Active Properties. PLoS Comput Biol."
   ]
  },
  {
   "cell_type": "markdown",
   "metadata": {},
   "source": [
    "# Section 2: Simulation of a neuron with dendrites"
   ]
  },
  {
   "cell_type": "code",
   "execution_count": 2,
   "metadata": {},
   "outputs": [],
   "source": [
    "from neuron import h\n",
    "from neuron.units import ms, mV\n",
    "%matplotlib inline\n",
    "import matplotlib.pyplot as plt\n",
    "import numpy as np\n",
    "import pickle"
   ]
  },
  {
   "cell_type": "markdown",
   "metadata": {},
   "source": [
    "Normally, we are more interested in the neuron with spatial structures instead of the simple point neuron. In NEURON software, we also use the **h.Section(cylinder)** to represent the dendrites."
   ]
  },
  {
   "cell_type": "markdown",
   "metadata": {},
   "source": [
    "<center class='half'>\n",
    "    <img src='./pictures/morpho.png' width='500'/>\n",
    "    <img src='./pictures/morpho2.png' width='500'/>\n",
    "</center>"
   ]
  },
  {
   "cell_type": "markdown",
   "metadata": {},
   "source": [
    "## Step 1: Defining the cell morphology"
   ]
  },
  {
   "cell_type": "markdown",
   "metadata": {},
   "source": [
    "A ball-and-stick cell by definition consists of two parts: the soma (ball) and a dendrite (stick). We could define two Sections at the top level as in the previous tutorial, but that wouldn't give us an easy way to create multiple cells. Instead, let's define a BallAndStick neuron class. The basic boilerplate for defining any class in Python looks like:"
   ]
  },
  {
   "cell_type": "code",
   "execution_count": 3,
   "metadata": {},
   "outputs": [],
   "source": [
    "class BallAndStick:\n",
    "    def __init__(self, gid):\n",
    "        self._gid = gid\n",
    "        self.soma = h.Section(name='soma', cell=self)\n",
    "        self.dend = h.Section(name='dend', cell=self)\n",
    "    def __repr__(self):\n",
    "        return 'BallAndStick[{}]'.format(self._gid)"
   ]
  },
  {
   "cell_type": "code",
   "execution_count": 4,
   "metadata": {},
   "outputs": [],
   "source": [
    "my_cell = BallAndStick(0)"
   ]
  },
  {
   "cell_type": "code",
   "execution_count": 5,
   "metadata": {},
   "outputs": [
    {
     "name": "stdout",
     "output_type": "stream",
     "text": [
      "\n",
      "|-|       BallAndStick[0].soma(0-1)\n",
      "|-|       BallAndStick[0].dend(0-1)\n",
      "\n"
     ]
    },
    {
     "data": {
      "text/plain": [
       "1.0"
      ]
     },
     "execution_count": 5,
     "metadata": {},
     "output_type": "execute_result"
    }
   ],
   "source": [
    "h.topology()"
   ]
  },
  {
   "cell_type": "code",
   "execution_count": 6,
   "metadata": {},
   "outputs": [],
   "source": [
    "my_other_cell = BallAndStick(1)"
   ]
  },
  {
   "cell_type": "code",
   "execution_count": 7,
   "metadata": {},
   "outputs": [
    {
     "name": "stdout",
     "output_type": "stream",
     "text": [
      "\n",
      "|-|       BallAndStick[0].soma(0-1)\n",
      "|-|       BallAndStick[0].dend(0-1)\n",
      "|-|       BallAndStick[1].soma(0-1)\n",
      "|-|       BallAndStick[1].dend(0-1)\n",
      "\n"
     ]
    },
    {
     "data": {
      "text/plain": [
       "1.0"
      ]
     },
     "execution_count": 7,
     "metadata": {},
     "output_type": "execute_result"
    }
   ],
   "source": [
    "h.topology()"
   ]
  },
  {
   "cell_type": "markdown",
   "metadata": {},
   "source": [
    "For now, we can get rid of my_other_cell:"
   ]
  },
  {
   "cell_type": "code",
   "execution_count": 8,
   "metadata": {},
   "outputs": [],
   "source": [
    "del my_other_cell"
   ]
  },
  {
   "cell_type": "code",
   "execution_count": 9,
   "metadata": {},
   "outputs": [
    {
     "name": "stdout",
     "output_type": "stream",
     "text": [
      "\n",
      "|-|       BallAndStick[0].soma(0-1)\n",
      "|-|       BallAndStick[0].dend(0-1)\n",
      "\n"
     ]
    },
    {
     "data": {
      "text/plain": [
       "1.0"
      ]
     },
     "execution_count": 9,
     "metadata": {},
     "output_type": "execute_result"
    }
   ],
   "source": [
    "h.topology()"
   ]
  },
  {
   "cell_type": "markdown",
   "metadata": {},
   "source": [
    "### Connect the sections"
   ]
  },
  {
   "cell_type": "markdown",
   "metadata": {},
   "source": [
    "![morpho3](./pictures/morpho3.png)"
   ]
  },
  {
   "cell_type": "markdown",
   "metadata": {},
   "source": [
    "We attach self.dend to the self.soma using the connect method:"
   ]
  },
  {
   "cell_type": "code",
   "execution_count": 10,
   "metadata": {},
   "outputs": [],
   "source": [
    "class BallAndStick:\n",
    "    def __init__(self, gid):\n",
    "        self._gid = gid\n",
    "        self.soma = h.Section(name='soma', cell=self)\n",
    "        # self.dend = [h.Section(name='dend[%d]' % i, cell=self) for i in range(2)] # We can also use a list to store all the dendrites\n",
    "        self.dend0 = h.Section(name='dend0', cell=self)\n",
    "        self.dend1 = h.Section(name='dend1', cell=self)\n",
    "        self.dend0.connect(self.soma(0))\n",
    "        self.dend1.connect(self.soma(1))\n",
    "    def __repr__(self):\n",
    "        return 'BallAndStick[{}]'.format(self._gid)"
   ]
  },
  {
   "cell_type": "code",
   "execution_count": 11,
   "metadata": {},
   "outputs": [],
   "source": [
    "my_cell = BallAndStick(0)"
   ]
  },
  {
   "cell_type": "code",
   "execution_count": 12,
   "metadata": {},
   "outputs": [
    {
     "name": "stdout",
     "output_type": "stream",
     "text": [
      "\n",
      "|-|       BallAndStick[0].soma(0-1)\n",
      "   `|       BallAndStick[0].dend1(0-1)\n",
      " `|       BallAndStick[0].dend0(0-1)\n",
      "\n"
     ]
    },
    {
     "data": {
      "text/plain": [
       "1.0"
      ]
     },
     "execution_count": 12,
     "metadata": {},
     "output_type": "execute_result"
    }
   ],
   "source": [
    "h.topology()"
   ]
  },
  {
   "cell_type": "markdown",
   "metadata": {},
   "source": [
    "### Define stylized geometry"
   ]
  },
  {
   "cell_type": "markdown",
   "metadata": {},
   "source": [
    "Let's set the length and the width for both sections. We'll make the soma have length and diameter of 12.6157 microns, the dendrite have length 200 microns and diameter 1 micron."
   ]
  },
  {
   "cell_type": "code",
   "execution_count": 13,
   "metadata": {},
   "outputs": [],
   "source": [
    "class BallAndStick:\n",
    "    def __init__(self, gid):\n",
    "        self._gid = gid\n",
    "        self.soma = h.Section(name='soma', cell=self)\n",
    "        # self.dend = [h.Section(name='dend[%d]' % i, cell=self) for i in range(2)] # We can also use a list to store all the dendrites\n",
    "        self.dend0 = h.Section(name='dend0', cell=self)\n",
    "        self.dend1 = h.Section(name='dend1', cell=self)\n",
    "        self.dend0.connect(self.soma(0))\n",
    "        self.dend1.connect(self.soma(1))\n",
    "        self.soma.L = self.soma.diam = 12.6157\n",
    "        self.dend0.L = 200\n",
    "        self.dend0.diam = 1\n",
    "        self.dend1.L = 100\n",
    "        self.dend1.diam = 2\n",
    "    def __repr__(self):\n",
    "        return 'BallAndStick[{}]'.format(self._gid)\n",
    "\n",
    "my_cell = BallAndStick(0)"
   ]
  },
  {
   "cell_type": "code",
   "execution_count": 14,
   "metadata": {},
   "outputs": [
    {
     "data": {
      "text/plain": [
       "500.00296377255506"
      ]
     },
     "execution_count": 14,
     "metadata": {},
     "output_type": "execute_result"
    }
   ],
   "source": [
    "my_cell.soma(0.5).area()"
   ]
  },
  {
   "cell_type": "code",
   "execution_count": 14,
   "metadata": {},
   "outputs": [
    {
     "name": "stdout",
     "output_type": "stream",
     "text": [
      "\n",
      "|-|       BallAndStick[0].soma(0-1)\n",
      "   `|       BallAndStick[0].dend1(0-1)\n",
      " `|       BallAndStick[0].dend0(0-1)\n",
      "\n"
     ]
    },
    {
     "data": {
      "text/plain": [
       "1.0"
      ]
     },
     "execution_count": 14,
     "metadata": {},
     "output_type": "execute_result"
    }
   ],
   "source": [
    "h.topology()"
   ]
  },
  {
   "cell_type": "markdown",
   "metadata": {},
   "source": [
    "## Step 2:  Specify biophysics"
   ]
  },
  {
   "cell_type": "markdown",
   "metadata": {},
   "source": [
    "Our cell needs biophysical mechanisms in the membrane. We start by setting axial resistance and membrane capacitance. (Recall: NEURON's default axial resistance is appropriate for squid but low for mammalian models.)"
   ]
  },
  {
   "cell_type": "code",
   "execution_count": 16,
   "metadata": {},
   "outputs": [],
   "source": [
    "class BallAndStick:\n",
    "    def __init__(self, gid):\n",
    "        self._gid = gid\n",
    "        self.soma = h.Section(name='soma', cell=self)\n",
    "        # self.dend = [h.Section(name='dend[%d]' % i, cell=self) for i in range(2)] # We can also use a list to store all the dendrites\n",
    "        self.dend0 = h.Section(name='dend0', cell=self)\n",
    "        self.dend1 = h.Section(name='dend1', cell=self)\n",
    "        self.all = [self.soma, self.dend0, self.dend1]                                     \n",
    "        self.dend0.connect(self.soma(0))\n",
    "        self.dend1.connect(self.soma(1))\n",
    "        self.soma.L = self.soma.diam = 12.6157\n",
    "        self.dend0.L = 200\n",
    "        self.dend0.diam = 1\n",
    "        self.dend1.L = 100\n",
    "        self.dend1.diam = 2\n",
    "        for sec in self.all:                                                  # <-- NEW\n",
    "            sec.Ra = 100    # Axial resistance in Ohm * cm                    # <-- NEW\n",
    "            sec.cm = 1      # Membrane capacitance in micro Farads / cm^2     # <-- NEW\n",
    "    def __repr__(self):\n",
    "        return 'BallAndStick[{}]'.format(self._gid)\n",
    "\n",
    "my_cell = BallAndStick(0)"
   ]
  },
  {
   "cell_type": "markdown",
   "metadata": {},
   "source": [
    "We've added a new variable **self.all** which is a list of all the sections in the cell. This will help us iterate over them to -- in this case -- specify axial resistance and membrane capacitance, but can also be used for any other biophysics."
   ]
  },
  {
   "cell_type": "markdown",
   "metadata": {},
   "source": [
    "This is getting a little complicated. Let's split __init__ into several functions:"
   ]
  },
  {
   "cell_type": "code",
   "execution_count": 18,
   "metadata": {},
   "outputs": [],
   "source": [
    "class BallAndStick:\n",
    "    def __init__(self, gid):\n",
    "        self._gid = gid\n",
    "        self._setup_morphology()\n",
    "        self._setup_biophysics()\n",
    "\n",
    "    def _setup_morphology(self):\n",
    "        self.soma = h.Section(name='soma', cell=self)\n",
    "        # self.dend = [h.Section(name='dend[%d]' % i, cell=self) for i in range(2)] # We can also use a list to store all the dendrites\n",
    "        self.dend0 = h.Section(name='dend0', cell=self)\n",
    "        self.dend1 = h.Section(name='dend1', cell=self)\n",
    "        self.all = [self.soma, self.dend0, self.dend1]                                     # <-- NEW\n",
    "        self.dend0.connect(self.soma(0))\n",
    "        self.dend1.connect(self.soma(1))\n",
    "        self.soma.L = self.soma.diam = 12.6157\n",
    "        self.dend0.L = 200\n",
    "        self.dend0.diam = 1\n",
    "        self.dend1.L = 100\n",
    "        self.dend1.diam = 2\n",
    "\n",
    "    def _setup_biophysics(self):\n",
    "        for sec in self.all:\n",
    "            sec.Ra = 100    # Axial resistance in Ohm * cm\n",
    "            sec.cm = 1      # Membrane capacitance in micro Farads / cm^2\n",
    "            \n",
    "    def __repr__(self):\n",
    "        return 'BallAndStick[{}]'.format(self._gid)\n",
    "\n",
    "my_cell = BallAndStick(0)"
   ]
  },
  {
   "cell_type": "markdown",
   "metadata": {},
   "source": [
    "We'll put Hodgkin-Huxley (hh) kinetics in the soma and specify some parameters:"
   ]
  },
  {
   "cell_type": "code",
   "execution_count": 19,
   "metadata": {},
   "outputs": [],
   "source": [
    "class BallAndStick:\n",
    "    def __init__(self, gid):\n",
    "        self._gid = gid\n",
    "        self._setup_morphology()\n",
    "        self._setup_biophysics()\n",
    "    def _setup_morphology(self):\n",
    "        self.soma = h.Section(name='soma', cell=self)\n",
    "        # self.dend = [h.Section(name='dend[%d]' % i, cell=self) for i in range(2)] # We can also use a list to store all the dendrites\n",
    "        self.dend0 = h.Section(name='dend0', cell=self)\n",
    "        self.dend1 = h.Section(name='dend1', cell=self)\n",
    "        self.all = [self.soma, self.dend0, self.dend1]                                     \n",
    "        self.dend0.connect(self.soma(0))\n",
    "        self.dend1.connect(self.soma(1))\n",
    "        self.soma.L = self.soma.diam = 12.6157\n",
    "        self.dend0.L = 200\n",
    "        self.dend0.diam = 1\n",
    "        self.dend1.L = 100\n",
    "        self.dend1.diam = 2\n",
    "    def _setup_biophysics(self):\n",
    "        for sec in self.all:\n",
    "            sec.Ra = 100    # Axial resistance in Ohm * cm\n",
    "            sec.cm = 1      # Membrane capacitance in micro Farads / cm^2\n",
    "        self.soma.insert('hh')                                                    # <-- NEW           \n",
    "        for seg in self.soma:                                                     # <-- NEW\n",
    "            seg.hh.gnabar = 0.12  # Sodium conductance in S/cm2                   # <-- NEW\n",
    "            seg.hh.gkbar = 0.036  # Potassium conductance in S/cm2                # <-- NEW\n",
    "            seg.hh.gl = 0.0003    # Leak conductance in S/cm2                     # <-- NEW\n",
    "            seg.hh.el = -54.3     # Reversal potential in mV                      # <-- NEW\n",
    "    def __repr__(self):\n",
    "        return 'BallAndStick[{}]'.format(self._gid)\n",
    "\n",
    "my_cell = BallAndStick(0)"
   ]
  },
  {
   "cell_type": "markdown",
   "metadata": {},
   "source": [
    "Finally, let's insert a passive (leak) current in the dendrite:"
   ]
  },
  {
   "cell_type": "code",
   "execution_count": 20,
   "metadata": {},
   "outputs": [],
   "source": [
    "class BallAndStick:\n",
    "    def __init__(self, gid):\n",
    "        self._gid = gid\n",
    "        self._setup_morphology()\n",
    "        self._setup_biophysics()\n",
    "    def _setup_morphology(self):\n",
    "        self.soma = h.Section(name='soma', cell=self)\n",
    "        # self.dend = [h.Section(name='dend[%d]' % i, cell=self) for i in range(2)] # We can also use a list to store all the dendrites\n",
    "        self.dend0 = h.Section(name='dend0', cell=self)\n",
    "        self.dend1 = h.Section(name='dend1', cell=self)\n",
    "        self.all = [self.soma, self.dend0, self.dend1]                                     \n",
    "        self.dend0.connect(self.soma(0))\n",
    "        self.dend1.connect(self.soma(1))\n",
    "        self.soma.L = self.soma.diam = 12.6157\n",
    "        self.dend0.L = 200\n",
    "        self.dend0.diam = 1\n",
    "        self.dend1.L = 100\n",
    "        self.dend1.diam = 2\n",
    "    def _setup_biophysics(self):\n",
    "        for sec in self.all:\n",
    "            sec.Ra = 100    # Axial resistance in Ohm * cm\n",
    "            sec.cm = 1      # Membrane capacitance in micro Farads / cm^2\n",
    "        self.soma.insert('hh')                                          \n",
    "        for seg in self.soma:\n",
    "            seg.hh.gnabar = 0.12  # Sodium conductance in S/cm2\n",
    "            seg.hh.gkbar = 0.036  # Potassium conductance in S/cm2\n",
    "            seg.hh.gl = 0.0003    # Leak conductance in S/cm2\n",
    "            seg.hh.el = -54.3     # Reversal potential in mV\n",
    "        # Insert passive current in the dendrite                       # <-- NEW\n",
    "        self.dend0.insert('pas')                                        # <-- NEW\n",
    "        for seg in self.dend0:                                          # <-- NEW\n",
    "            seg.pas.g = 0.001  # Passive conductance in S/cm2          # <-- NEW\n",
    "            seg.pas.e = -65    # Leak reversal potential mV            # <-- NEW \n",
    "        # Insert passive current in the dendrite                       # <-- NEW\n",
    "        self.dend1.insert('pas')                                        # <-- NEW\n",
    "        for seg in self.dend1:                                          # <-- NEW\n",
    "            seg.pas.g = 0.001  # Passive conductance in S/cm2          # <-- NEW\n",
    "            seg.pas.e = -65    # Leak reversal potential mV            # <-- NEW \n",
    "    def __repr__(self):\n",
    "        return 'BallAndStick[{}]'.format(self._gid)\n",
    "\n",
    "my_cell = BallAndStick(0)"
   ]
  },
  {
   "cell_type": "markdown",
   "metadata": {},
   "source": [
    "### Derivation of the Cable Equation\n",
    "Let's consider a piece of cylindric dendrite with length $dx$. The circuit diagram of this dendritic segment is shown in the schematic drawing below\n",
    "\n",
    "<img src=\"./pictures/drawing.png\" alt=\"Drawing\" style=\"width: 800px;\"/>\n",
    "\n",
    "Using Kirchhoff’s laws, we find equations that relate the voltage $v(x)$ across the membrane at location $x$ with longitudinal and transversal currents. First, a longitudinal current $i(x)$ passing through the dendrite causes a voltage drop across the longitudinal resistor $R_L$ according to Ohm’s law,\n",
    "\n",
    "\\begin{equation}\n",
    "v(x+dx,t)−v(x,t)=-R_Li(x,t) \\ \\ \\ \\ \\ \\ \\ \\   (1)\n",
    "\\end{equation}\n",
    "\n",
    "where $v(x+dx,t)$ is the membrane potential at the neighbouring point $x+dx$. Second, the transversal current that passes through the RC-circuit is given by $C\\frac{\\partial }{\\partial t}v(x,t)+\\sum_{ion}I_{ion}-I_{ext}$, where the sum runs over all ion channel types present in the dendrite. Kirchhoff’s law regarding the conservation of current at each node leads to\n",
    "\n",
    "\\begin{equation}\n",
    "-i(x+dx,t)+i(x,t)=C\\frac{\\partial }{\\partial t}v(x,t)+\\sum_{ion}I_{ion}-I_{ext}(x,t).   \\ \\ \\ \\ \\ \\ \\ \\   (2)\n",
    "\\end{equation}\n",
    "\n",
    "The values of the longitudinal resistance $R_L$, the capacity $C$, the ionic currents as well as the externally applied current can be expressed in terms of specific quantities per unit length $r_L$, $c$, $i_{ion}$ and $i_{ext}$, respectively.\n",
    "\n",
    "\\begin{equation}\n",
    "R_L=r_Ldx, C=cdx, I_{ext}(x,t)=i_{ext}(x,t)dx, I_{ion}(x,t)=i_{ion}(x,t)dx.  \\ \\ \\ \\ \\ \\ \\ \\   (3)\n",
    "\\end{equation}\n",
    "\n",
    "These scaling relations express the fact that the longitudinal resistance and the capacitance increases with the length of the cylinder. Similarly, the total amount of transversal current increases with the length $dx$ simply because the surface through which the current can pass is increasing. Substituting these expressions in Eqs. (1) and (2), dividing by $dx$, and taking the limit $dx→0$ leads to\n",
    "\n",
    "\\begin{equation}\n",
    "\\begin{split}\n",
    "\\frac{\\partial}{\\partial x}v(x,t)&=r_Li(x,t)\\ \\ \\ \\ \\ \\ \\ \\   (4a)\\\\\n",
    "\\frac{\\partial}{\\partial x}i(x,t)&=c\\frac{\\partial }{\\partial t}v(x,t)+\\sum_{ion}i_{ion}(x,t)−i_{ext}(x,t).\\ \\ \\ \\ \\ \\ \\ \\   (4b)\n",
    "\\end{split}\n",
    "\\end{equation}\n",
    "\n",
    "Taking the derivative of equation (4a) with respect to $x$ and substituting the result into (4b) yields\n",
    "\n",
    "\\begin{equation}\n",
    "\\frac{\\partial^2}{\\partial x^2}v(x,t)=cr_L\\frac{\\partial}{\\partial t}v(x,t)+r_L\\sum_{ion}i_{ion}(x,t)−r_Li_{ext}(x,t). \\ \\ \\ \\ \\ \\ \\ \\   (5)\n",
    "\\end{equation}\n",
    "\n",
    "Eq. (5) is called the general cable equation.\n",
    "\n",
    "Reference: https://neuronaldynamics.epfl.ch "
   ]
  },
  {
   "cell_type": "markdown",
   "metadata": {},
   "source": [
    "## Step 3: Simulation and record"
   ]
  },
  {
   "cell_type": "markdown",
   "metadata": {},
   "source": [
    "We'll inject a current pulse into the distal (1) end of the dendrite starting 5 ms after the simulation starts, with a duration of 1 ms, and an amplitude of 0.1 nA. First, let's define and position the current clamp object:"
   ]
  },
  {
   "cell_type": "code",
   "execution_count": 21,
   "metadata": {},
   "outputs": [],
   "source": [
    "stim = h.IClamp(my_cell.dend0(1))"
   ]
  },
  {
   "cell_type": "code",
   "execution_count": 22,
   "metadata": {},
   "outputs": [],
   "source": [
    "stim.delay = 5\n",
    "stim.dur = 1\n",
    "stim.amp = 0.1"
   ]
  },
  {
   "cell_type": "markdown",
   "metadata": {},
   "source": [
    "If we want, we can check the segment the current clamp is inserted into:"
   ]
  },
  {
   "cell_type": "code",
   "execution_count": 23,
   "metadata": {},
   "outputs": [
    {
     "data": {
      "text/plain": [
       "BallAndStick[0].dend0(1)"
      ]
     },
     "execution_count": 23,
     "metadata": {},
     "output_type": "execute_result"
    }
   ],
   "source": [
    "stim.get_segment()"
   ]
  },
  {
   "cell_type": "markdown",
   "metadata": {},
   "source": [
    "We'll start out recording the membrane potential at the center of the soma and the time in two NEURON Vectors:"
   ]
  },
  {
   "cell_type": "code",
   "execution_count": 24,
   "metadata": {},
   "outputs": [],
   "source": [
    "soma_v = h.Vector().record(my_cell.soma(0.5)._ref_v)\n",
    "t = h.Vector().record(h._ref_t)"
   ]
  },
  {
   "cell_type": "code",
   "execution_count": 25,
   "metadata": {},
   "outputs": [
    {
     "data": {
      "text/plain": [
       "0.0"
      ]
     },
     "execution_count": 25,
     "metadata": {},
     "output_type": "execute_result"
    }
   ],
   "source": [
    "h.load_file('stdrun.hoc')\n",
    "h.finitialize(-65 * mV)\n",
    "h.continuerun(25 * ms)"
   ]
  },
  {
   "cell_type": "code",
   "execution_count": 26,
   "metadata": {},
   "outputs": [
    {
     "data": {
      "image/png": "[encoded data removed]",
      "text/plain": [
       "<matplotlib.figure.Figure at 0x7f521ac830b8>"
      ]
     },
     "metadata": {
      "needs_background": "light"
     },
     "output_type": "display_data"
    }
   ],
   "source": [
    "plt.figure(figsize=(8,6))\n",
    "plt.plot(t, soma_v)\n",
    "plt.xlabel('t (ms)')\n",
    "plt.ylabel('soma_v (mV)')\n",
    "plt.show()"
   ]
  },
  {
   "cell_type": "markdown",
   "metadata": {},
   "source": [
    "### Plotting both the dendrite and the soma"
   ]
  },
  {
   "cell_type": "code",
   "execution_count": 27,
   "metadata": {},
   "outputs": [],
   "source": [
    "dend0_v = h.Vector().record(my_cell.dend0(0.5)._ref_v)"
   ]
  },
  {
   "cell_type": "code",
   "execution_count": 28,
   "metadata": {},
   "outputs": [
    {
     "data": {
      "image/png": "[encoded data removed]",
      "text/plain": [
       "<matplotlib.figure.Figure at 0x7f5212c4c710>"
      ]
     },
     "metadata": {
      "needs_background": "light"
     },
     "output_type": "display_data"
    }
   ],
   "source": [
    "stim.amp = 0.1\n",
    "h.finitialize(-65 * mV)\n",
    "h.continuerun(25 * ms)\n",
    "plt.figure(figsize=(8,6))\n",
    "plt.plot(t, soma_v, label='soma')\n",
    "plt.plot(t, dend0_v, label='dendrite0')\n",
    "plt.xlabel('t (ms)')\n",
    "plt.ylabel('v (mV)')\n",
    "plt.legend()\n",
    "plt.show()"
   ]
  },
  {
   "cell_type": "markdown",
   "metadata": {},
   "source": [
    "## Exercise 2.1 : You can have a try that if you change the amplitude of the stimulus, how will the voltage of soma and dendrite change respectively?"
   ]
  },
  {
   "cell_type": "markdown",
   "metadata": {},
   "source": [
    "### The role of nseg"
   ]
  },
  {
   "cell_type": "code",
   "execution_count": 29,
   "metadata": {},
   "outputs": [
    {
     "data": {
      "text/plain": [
       "{'point_processes': {'IClamp': {IClamp[0]}},\n",
       " 'density_mechs': {'pas': {'g': [0.001],\n",
       "   'e': [-65.0],\n",
       "   'i': [2.310476020070951e-06]}},\n",
       " 'ions': {},\n",
       " 'morphology': {'L': 200.0,\n",
       "  'diam': [1.0],\n",
       "  'pts3d': [],\n",
       "  'parent': BallAndStick[0].soma(0),\n",
       "  'trueparent': None},\n",
       " 'nseg': 1,\n",
       " 'Ra': 100.0,\n",
       " 'cm': [1.0],\n",
       " 'regions': set(),\n",
       " 'species': set(),\n",
       " 'name': 'BallAndStick[0].dend0',\n",
       " 'hoc_internal_name': '__nrnsec_0x3097a80',\n",
       " 'cell': BallAndStick[0]}"
      ]
     },
     "execution_count": 29,
     "metadata": {},
     "output_type": "execute_result"
    }
   ],
   "source": [
    "my_cell.dend0.psection()"
   ]
  },
  {
   "cell_type": "markdown",
   "metadata": {},
   "source": [
    "**section.nseg** : The section is divided into nseg compartments of length L/nseg. Membrane potential will be computed at the ends of the section and the middle of each compartment. At the midpoint of each segment, the difference equation satisfies the law of conservation of current. Therefore, the more segments are divided, the higher the numerical accuracy."
   ]
  },
  {
   "cell_type": "markdown",
   "metadata": {},
   "source": [
    "<center class='half'>\n",
    "    <img src='./pictures/segment.png' width='500'/>\n",
    "    <img src='./pictures/segment2.png' width='400'/>\n",
    "</center>"
   ]
  },
  {
   "cell_type": "code",
   "execution_count": 30,
   "metadata": {},
   "outputs": [],
   "source": [
    "my_cell.dend0.nseg = 5"
   ]
  },
  {
   "cell_type": "markdown",
   "metadata": {},
   "source": [
    "Normally, nseg is set to be an odd number for convenience"
   ]
  },
  {
   "cell_type": "code",
   "execution_count": 31,
   "metadata": {},
   "outputs": [],
   "source": [
    "dend_v_1 = h.Vector().record(my_cell.dend0(0.1)._ref_v)\n",
    "dend_v_2 = h.Vector().record(my_cell.dend0(0.3)._ref_v)\n",
    "dend_v_3 = h.Vector().record(my_cell.dend0(0.5)._ref_v)\n",
    "dend_v_4 = h.Vector().record(my_cell.dend0(0.7)._ref_v)\n",
    "dend_v_5 = h.Vector().record(my_cell.dend0(0.9)._ref_v)"
   ]
  },
  {
   "cell_type": "code",
   "execution_count": 32,
   "metadata": {},
   "outputs": [
    {
     "data": {
      "image/png": "[encoded data removed]",
      "text/plain": [
       "<matplotlib.figure.Figure at 0x7f52123074a8>"
      ]
     },
     "metadata": {
      "needs_background": "light"
     },
     "output_type": "display_data"
    }
   ],
   "source": [
    "stim.amp = 0.1\n",
    "h.finitialize(-65 * mV)\n",
    "h.continuerun(25 * ms)\n",
    "plt.figure(figsize=(8,6))\n",
    "plt.plot(t, dend_v_1, label='location 1')\n",
    "plt.plot(t, dend_v_2, label='location 2')\n",
    "plt.plot(t, dend_v_3, label='location 3')\n",
    "plt.plot(t, dend_v_4, label='location 4')\n",
    "plt.plot(t, dend_v_5, label='location 5')\n",
    "plt.xlabel('t (ms)')\n",
    "plt.ylabel('v (mV)')\n",
    "plt.legend()\n",
    "plt.show()"
   ]
  },
  {
   "cell_type": "code",
   "execution_count": 33,
   "metadata": {},
   "outputs": [],
   "source": [
    "my_cell.dend0.nseg = 1"
   ]
  },
  {
   "cell_type": "code",
   "execution_count": 34,
   "metadata": {},
   "outputs": [],
   "source": [
    "dend_v_1 = h.Vector().record(my_cell.dend0(0.1)._ref_v)\n",
    "dend_v_2 = h.Vector().record(my_cell.dend0(0.3)._ref_v)\n",
    "dend_v_3 = h.Vector().record(my_cell.dend0(0.5)._ref_v)\n",
    "dend_v_4 = h.Vector().record(my_cell.dend0(0.7)._ref_v)\n",
    "dend_v_5 = h.Vector().record(my_cell.dend0(0.9)._ref_v)"
   ]
  },
  {
   "cell_type": "code",
   "execution_count": 35,
   "metadata": {},
   "outputs": [
    {
     "data": {
      "image/png": "[encoded data removed]",
      "text/plain": [
       "<matplotlib.figure.Figure at 0x7f5212307208>"
      ]
     },
     "metadata": {
      "needs_background": "light"
     },
     "output_type": "display_data"
    }
   ],
   "source": [
    "stim.amp = 0.1\n",
    "h.finitialize(-65 * mV)\n",
    "h.continuerun(25 * ms)\n",
    "plt.figure(figsize=(8,6))\n",
    "plt.plot(t, dend_v_1, label='location 1')\n",
    "plt.plot(t, dend_v_2, label='location 2')\n",
    "plt.plot(t, dend_v_3, label='location 3')\n",
    "plt.plot(t, dend_v_4, label='location 4')\n",
    "plt.plot(t, dend_v_5, label='location 5')\n",
    "plt.xlabel('t (ms)')\n",
    "plt.ylabel('v (mV)')\n",
    "plt.legend()\n",
    "plt.show()"
   ]
  },
  {
   "cell_type": "markdown",
   "metadata": {},
   "source": [
    "## Exercise 2.2: Try to build a neuron with a soma connected with a dendrite. Change the nseg of the dendrite to see how the nseg affects the resolution of the simulation?"
   ]
  },
  {
   "cell_type": "code",
   "execution_count": 39,
   "metadata": {},
   "outputs": [
    {
     "data": {
      "image/png": "[encoded data removed]",
      "text/plain": [
       "<matplotlib.figure.Figure at 0x7f5212101860>"
      ]
     },
     "metadata": {
      "needs_background": "light"
     },
     "output_type": "display_data"
    }
   ],
   "source": [
    "## Uncomment the code below and fill in the blank\n",
    "\n",
    "class BallAndStick:\n",
    "    def __init__(self, gid):\n",
    "        self._gid = gid\n",
    "        self._setup_morphology()\n",
    "        self._setup_biophysics()\n",
    "    def _setup_morphology(self):\n",
    "        self.soma = h.Section(name='soma', cell=self)\n",
    "        self.dend = h.Section(name='dend', cell=self)\n",
    "        self.all = [self.soma, self.dend]\n",
    "        self.dend.connect(self.soma(1)) # connect the dend with soma\n",
    "        self.soma.L = self.soma.diam = 12.6157 # change the length and diamter of soma to 12.6157um\n",
    "        self.dend.L = 200 # change the length of dendrite to 200um\n",
    "        self.dend.diam = 1 # change the diameter of dendrite to 1um\n",
    "    def _setup_biophysics(self):\n",
    "        for sec in self.all:\n",
    "            sec.Ra = 100    # Axial resistance in Ohm * cm\n",
    "            sec.cm = 1      # Membrane capacitance in micro Farads / cm^2\n",
    "        self.soma.insert('hh') # Insert HH channel in soma                                       \n",
    "        for seg in self.soma:\n",
    "            seg.hh.gnabar = 0.12  # Sodium conductance in S/cm2\n",
    "            seg.hh.gkbar = 0.036  # Potassium conductance in S/cm2\n",
    "            seg.hh.gl = 0.0003    # Leak conductance in S/cm2\n",
    "            seg.hh.el = -54.3     # Reversal potential in mV                      \n",
    "        self.dend.insert('pas')  # Insert passive channel in dendrite                                       \n",
    "        for seg in self.dend:                                          \n",
    "            seg.pas.g = 0.001  # Passive conductance in S/cm2         \n",
    "            seg.pas.e = -65    # Leak reversal potential mV            \n",
    "    def __repr__(self):\n",
    "        return 'BallAndStick[{}]'.format(self._gid)\n",
    "\n",
    "my_cell = BallAndStick(0)\n",
    "\n",
    "stim = h.IClamp(my_cell.dend(1)) #stimulate the neuron at dend(1)\n",
    "stim.delay = 5\n",
    "stim.dur = 1\n",
    "stim.amp = 0.3\n",
    "\n",
    "soma_v = h.Vector().record(my_cell.soma(0.5)._ref_v)\n",
    "dend_v = h.Vector().record(my_cell.dend(0.5)._ref_v)\n",
    "t = h.Vector().record(h._ref_t)\n",
    "\n",
    "plt.figure(figsize=(8, 6))\n",
    "colors = ['green', 'blue', 'red', 'black']\n",
    "for my_cell.dend.nseg in [1, 101]:\n",
    "    h.finitialize(-65)\n",
    "    h.continuerun(25)\n",
    "    if my_cell.dend.nseg == 1:\n",
    "        plt.plot(t, soma_v, label=f'soma_v when nseg is {my_cell.dend.nseg}', color = 'green')\n",
    "        plt.plot(t, dend_v,  label=f'dend_v when nseg is {my_cell.dend.nseg}', color = 'red')\n",
    "    else:\n",
    "        plt.plot(t, soma_v, ls='--', label=f'soma_v when nseg is {my_cell.dend.nseg}', color = 'green')\n",
    "        plt.plot(t, dend_v, ls='--', label=f'dend_v when nseg is {my_cell.dend.nseg}', color = 'red')\n",
    "plt.xlabel('t(ms)')\n",
    "plt.ylabel('MP(mV)')\n",
    "plt.legend()\n",
    "plt.show()"
   ]
  }
 ],
 "metadata": {
  "kernelspec": {
   "display_name": "Python 3.6.9 64-bit",
   "language": "python",
   "name": "python3"
  },
  "language_info": {
   "codemirror_mode": {
    "name": "ipython",
    "version": 3
   },
   "file_extension": ".py",
   "mimetype": "text/x-python",
   "name": "python",
   "nbconvert_exporter": "python",
   "pygments_lexer": "ipython3",
   "version": "3.6.9"
  },
  "orig_nbformat": 4,
  "vscode": {
   "interpreter": {
    "hash": "31f2aee4e71d21fbe5cf8b01ff0e069b9275f58929596ceb00d14d90e3e16cd6"
   }
  }
 },
 "nbformat": 4,
 "nbformat_minor": 2
}
